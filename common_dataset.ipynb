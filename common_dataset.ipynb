{
 "cells": [
  {
   "cell_type": "code",
   "execution_count": null,
   "id": "4baa6c06",
   "metadata": {},
   "outputs": [
    {
     "ename": "",
     "evalue": "",
     "output_type": "error",
     "traceback": [
      "\u001b[1;31mRunning cells with '.conda (Python 3.11.13)' requires the ipykernel package.\n",
      "\u001b[1;31mInstall 'ipykernel' into the Python environment. \n",
      "\u001b[1;31mCommand: 'conda install -n .conda ipykernel --update-deps --force-reinstall'"
     ]
    }
   ],
   "source": [
    "import pandas as pd \n",
    "\n",
    "kepler = pd.read_csv('datasets/KOI.csv', comment='#')\n",
    "tess = pd.read_csv('datasets/TOI.csv', comment='#')\n",
    "k2 = pd.read_csv('datasets/K2P.csv', comment='#')"
   ]
  },
  {
   "cell_type": "code",
   "execution_count": null,
   "id": "cb0f3ffe",
   "metadata": {},
   "outputs": [],
   "source": [
    "kepler_keys = ['koi_period', 'ra', 'dec']\n",
    "kepler[kepler_keys]"
   ]
  },
  {
   "cell_type": "code",
   "execution_count": null,
   "id": "945b096c",
   "metadata": {},
   "outputs": [],
   "source": [
    "tess_k2_keys = ['pl_orbper', 'ra', 'dec']\n",
    "tess[tess_k2_keys]"
   ]
  },
  {
   "cell_type": "code",
   "execution_count": null,
   "id": "2a5beaf6",
   "metadata": {},
   "outputs": [],
   "source": [
    "kepler[kepler_keys].describe()"
   ]
  },
  {
   "cell_type": "code",
   "execution_count": null,
   "id": "17378e09",
   "metadata": {},
   "outputs": [],
   "source": [
    "tess[tess_k2_keys].describe()"
   ]
  },
  {
   "cell_type": "code",
   "execution_count": null,
   "id": "2b1f1cf1",
   "metadata": {},
   "outputs": [],
   "source": [
    "k2[tess_k2_keys]"
   ]
  },
  {
   "cell_type": "code",
   "execution_count": null,
   "id": "04c1c822",
   "metadata": {},
   "outputs": [],
   "source": [
    "k2[tess_k2_keys].describe()"
   ]
  },
  {
   "cell_type": "code",
   "execution_count": null,
   "id": "f48c74af",
   "metadata": {},
   "outputs": [],
   "source": [
    "# estimate overlap rate between two catalogs (decimal degrees)\n",
    "from astropy.coordinates import SkyCoord\n",
    "import astropy.units as u\n",
    "import pandas as pd\n",
    "\n",
    "k = SkyCoord(ra=kepler['ra'].values*u.deg, dec=kepler['dec'].values*u.deg)\n",
    "t = SkyCoord(ra=tess['ra'].values*u.deg,   dec=tess['dec'].values*u.deg)\n",
    "\n",
    "# match within 5 arcsec (tune as needed)\n",
    "idx_k, idx_t, sep, _ = k.search_around_sky(t, 5*u.arcsec)\n",
    "overlap_rate = len(pd.unique(idx_k)) / len(kepler)\n",
    "print(f\"Matched Kepler stars fraction ≈ {overlap_rate:.3%}\")\n"
   ]
  }
 ],
 "metadata": {
  "kernelspec": {
   "display_name": ".conda",
   "language": "python",
   "name": "python3"
  },
  "language_info": {
   "codemirror_mode": {
    "name": "ipython",
    "version": 3
   },
   "file_extension": ".py",
   "mimetype": "text/x-python",
   "name": "python",
   "nbconvert_exporter": "python",
   "pygments_lexer": "ipython3",
   "version": "3.11.13"
  }
 },
 "nbformat": 4,
 "nbformat_minor": 5
}
